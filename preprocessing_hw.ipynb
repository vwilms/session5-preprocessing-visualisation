{
 "cells": [
  {
   "cell_type": "code",
   "execution_count": 2,
   "metadata": {},
   "outputs": [],
   "source": [
    "import pandas as pd\n",
    "import numpy as np"
   ]
  },
  {
   "cell_type": "code",
   "execution_count": 6,
   "metadata": {},
   "outputs": [],
   "source": [
    "# I forgot to save participant id in the experiment so I'll add a column with id now for each ppt\n",
    "df4 = pd.read_csv('4.csv')\n",
    "\n",
    "df4[\"id\"] = \"4\"\n",
    "df4.to_csv(\"4.csv\", index=False)"
   ]
  },
  {
   "cell_type": "code",
   "execution_count": 8,
   "metadata": {},
   "outputs": [],
   "source": [
    "# Put the four ppt files together\n",
    "\n",
    "ppts_merged = pd.concat(\n",
    "    map(pd.read_csv, [\"1.csv\", \"2.csv\", \"3.csv\", \"4.csv\"]), ignore_index=True\n",
    ")\n",
    "\n",
    "ppts_merged.to_csv('ppts_merged.csv', index=False)"
   ]
  }
 ],
 "metadata": {
  "interpreter": {
   "hash": "78062bdde48a7104f4d3ea9a7117bceb40f968c4f67e55b98361572a14e9d17b"
  },
  "kernelspec": {
   "display_name": "Python 3.9.1 64-bit",
   "language": "python",
   "name": "python3"
  },
  "language_info": {
   "codemirror_mode": {
    "name": "ipython",
    "version": 3
   },
   "file_extension": ".py",
   "mimetype": "text/x-python",
   "name": "python",
   "nbconvert_exporter": "python",
   "pygments_lexer": "ipython3",
   "version": "3.10.2"
  },
  "orig_nbformat": 4
 },
 "nbformat": 4,
 "nbformat_minor": 2
}
